{
 "cells": [
  {
   "cell_type": "code",
   "execution_count": 1,
   "metadata": {},
   "outputs": [],
   "source": [
    "from pyspark import SparkContext, SparkConf\n",
    "from pyspark.sql import SQLContext\n",
    "\n",
    "from pyspark.sql import SparkSession\n",
    "import pandas as pd\n",
    "\n",
    "spark = SparkSession.builder.appName(\"pickling\").config(\"spark.some.config.option\", \"some-value\").getOrCreate()\n",
    "path = \"data-300k.json\"\n",
    "df = spark.read.json(path)"
   ]
  },
  {
   "cell_type": "code",
   "execution_count": 2,
   "metadata": {
    "scrolled": true
   },
   "outputs": [
    {
     "ename": "AttributeError",
     "evalue": "'list' object has no attribute 'toPandas'",
     "output_type": "error",
     "traceback": [
      "\u001b[1;31m---------------------------------------------------------------------------\u001b[0m",
      "\u001b[1;31mAttributeError\u001b[0m                            Traceback (most recent call last)",
      "\u001b[1;32m<ipython-input-2-18d23ef530a2>\u001b[0m in \u001b[0;36m<module>\u001b[1;34m\u001b[0m\n\u001b[0;32m      1\u001b[0m \u001b[0muuid_list\u001b[0m \u001b[1;33m=\u001b[0m \u001b[0mdf\u001b[0m\u001b[1;33m.\u001b[0m\u001b[0mselect\u001b[0m\u001b[1;33m(\u001b[0m\u001b[1;34m\"uuid\"\u001b[0m\u001b[1;33m)\u001b[0m\u001b[1;33m.\u001b[0m\u001b[0mdropDuplicates\u001b[0m\u001b[1;33m(\u001b[0m\u001b[1;33m)\u001b[0m\u001b[1;33m.\u001b[0m\u001b[0mcollect\u001b[0m\u001b[1;33m(\u001b[0m\u001b[1;33m)\u001b[0m\u001b[1;33m\u001b[0m\u001b[1;33m\u001b[0m\u001b[0m\n\u001b[1;32m----> 2\u001b[1;33m \u001b[0muuid_list\u001b[0m\u001b[1;33m.\u001b[0m\u001b[0mtoPandas\u001b[0m\u001b[1;33m(\u001b[0m\u001b[1;33m)\u001b[0m\u001b[1;33m\u001b[0m\u001b[1;33m\u001b[0m\u001b[0m\n\u001b[0m",
      "\u001b[1;31mAttributeError\u001b[0m: 'list' object has no attribute 'toPandas'"
     ]
    }
   ],
   "source": [
    "uuid_list = df.select(\"uuid\").dropDuplicates().collect()"
   ]
  },
  {
   "cell_type": "code",
   "execution_count": 35,
   "metadata": {},
   "outputs": [
    {
     "ename": "AttributeError",
     "evalue": "'str' object has no attribute 'asDict'",
     "output_type": "error",
     "traceback": [
      "\u001b[1;31m---------------------------------------------------------------------------\u001b[0m",
      "\u001b[1;31mAttributeError\u001b[0m                            Traceback (most recent call last)",
      "\u001b[1;32m<ipython-input-35-050a51944edb>\u001b[0m in \u001b[0;36m<module>\u001b[1;34m\u001b[0m\n\u001b[0;32m      1\u001b[0m \u001b[1;32mfor\u001b[0m \u001b[0mi\u001b[0m \u001b[1;32min\u001b[0m \u001b[0mrange\u001b[0m\u001b[1;33m(\u001b[0m\u001b[0mlen\u001b[0m\u001b[1;33m(\u001b[0m\u001b[0muuid_list\u001b[0m\u001b[1;33m)\u001b[0m\u001b[1;33m)\u001b[0m\u001b[1;33m:\u001b[0m\u001b[1;33m\u001b[0m\u001b[1;33m\u001b[0m\u001b[0m\n\u001b[1;32m----> 2\u001b[1;33m     \u001b[0muuid_list\u001b[0m\u001b[1;33m[\u001b[0m\u001b[0mi\u001b[0m\u001b[1;33m]\u001b[0m \u001b[1;33m=\u001b[0m \u001b[0mlist\u001b[0m\u001b[1;33m(\u001b[0m\u001b[0muuid_list\u001b[0m\u001b[1;33m[\u001b[0m\u001b[0mi\u001b[0m\u001b[1;33m]\u001b[0m\u001b[1;33m.\u001b[0m\u001b[0masDict\u001b[0m\u001b[1;33m(\u001b[0m\u001b[1;33m)\u001b[0m\u001b[1;33m.\u001b[0m\u001b[0mvalues\u001b[0m\u001b[1;33m(\u001b[0m\u001b[1;33m)\u001b[0m\u001b[1;33m)\u001b[0m\u001b[1;33m[\u001b[0m\u001b[1;36m0\u001b[0m\u001b[1;33m]\u001b[0m\u001b[1;33m\u001b[0m\u001b[1;33m\u001b[0m\u001b[0m\n\u001b[0m",
      "\u001b[1;31mAttributeError\u001b[0m: 'str' object has no attribute 'asDict'"
     ]
    }
   ],
   "source": [
    "for i in range(len(uuid_list)):\n",
    "    uuid_list[i] = list(uuid_list[i].asDict().values())[0]"
   ]
  },
  {
   "cell_type": "code",
   "execution_count": 36,
   "metadata": {},
   "outputs": [
    {
     "data": {
      "text/plain": [
       "['51c19403-bb02-3815-9efc-af3557a1b27b',\n",
       " '35a7aa0b-0656-309a-b782-6d421d947c3b',\n",
       " '09d33e9d-fc3b-3d1e-815f-2b321e072280',\n",
       " '635b9c44-421a-3754-b2fe-23dce522e576',\n",
       " 'dac6d006-c6e6-32ac-a08e-47fafc8b176c',\n",
       " '7e1357a7-1393-3f4e-a3ec-2a2870a579f4',\n",
       " 'ee0fa0f9-ef15-3372-a75b-6bbcd3f3f9f3',\n",
       " 'b3ffaecb-703c-341b-92ad-bf441a800d95']"
      ]
     },
     "execution_count": 36,
     "metadata": {},
     "output_type": "execute_result"
    }
   ],
   "source": [
    "uuid_list"
   ]
  },
  {
   "cell_type": "code",
   "execution_count": 37,
   "metadata": {},
   "outputs": [],
   "source": [
    "\n",
    "pickle_list = [0] * len(uuid_list)"
   ]
  },
  {
   "cell_type": "code",
   "execution_count": 16,
   "metadata": {},
   "outputs": [],
   "source": [
    "for i in range(len(uuid_list)):\n",
    "    pickle_list[i] = df.where(df.uuid == uuid_list[i])\n"
   ]
  },
  {
   "cell_type": "code",
   "execution_count": 17,
   "metadata": {},
   "outputs": [],
   "source": [
    "for i in range(len(pickle_list)):\n",
    "    pickle_list[i] = pickle_list[i].toPandas()\n",
    "    pd.DataFrame.to_pickle(pickle_list[i], \"./data/\" +uuid_list[i] + \".pickle\" )"
   ]
  },
  {
   "cell_type": "code",
   "execution_count": 18,
   "metadata": {},
   "outputs": [
    {
     "data": {
      "text/html": [
       "<div>\n",
       "<style scoped>\n",
       "    .dataframe tbody tr th:only-of-type {\n",
       "        vertical-align: middle;\n",
       "    }\n",
       "\n",
       "    .dataframe tbody tr th {\n",
       "        vertical-align: top;\n",
       "    }\n",
       "\n",
       "    .dataframe thead th {\n",
       "        text-align: right;\n",
       "    }\n",
       "</style>\n",
       "<table border=\"1\" class=\"dataframe\">\n",
       "  <thead>\n",
       "    <tr style=\"text-align: right;\">\n",
       "      <th></th>\n",
       "      <th>RTT</th>\n",
       "      <th>SSID</th>\n",
       "      <th>Strength</th>\n",
       "      <th>WiFiStatus</th>\n",
       "      <th>_id</th>\n",
       "      <th>latitude</th>\n",
       "      <th>longitude</th>\n",
       "      <th>timestamp</th>\n",
       "      <th>type</th>\n",
       "      <th>uuid</th>\n",
       "    </tr>\n",
       "  </thead>\n",
       "  <tbody>\n",
       "    <tr>\n",
       "      <td>0</td>\n",
       "      <td>42.118000</td>\n",
       "      <td>olleh_GiGA_WiFi_9F95</td>\n",
       "      <td>93</td>\n",
       "      <td>None</td>\n",
       "      <td>(564d8d7992adcb30bdf6b76c,)</td>\n",
       "      <td>37.549549</td>\n",
       "      <td>126.880959</td>\n",
       "      <td>1447593932</td>\n",
       "      <td>WiFi</td>\n",
       "      <td>51c19403-bb02-3815-9efc-af3557a1b27b</td>\n",
       "    </tr>\n",
       "    <tr>\n",
       "      <td>1</td>\n",
       "      <td>36.250999</td>\n",
       "      <td>olleh_GiGA_WiFi_9F95</td>\n",
       "      <td>91</td>\n",
       "      <td>None</td>\n",
       "      <td>(564d8d7992adcb30bdf6b76d,)</td>\n",
       "      <td>37.549549</td>\n",
       "      <td>126.880959</td>\n",
       "      <td>1447593937</td>\n",
       "      <td>WiFi</td>\n",
       "      <td>51c19403-bb02-3815-9efc-af3557a1b27b</td>\n",
       "    </tr>\n",
       "    <tr>\n",
       "      <td>2</td>\n",
       "      <td>39.515999</td>\n",
       "      <td>olleh_GiGA_WiFi_9F95</td>\n",
       "      <td>93</td>\n",
       "      <td>None</td>\n",
       "      <td>(564d8d7992adcb30bdf6b76e,)</td>\n",
       "      <td>37.549549</td>\n",
       "      <td>126.880959</td>\n",
       "      <td>1447593942</td>\n",
       "      <td>WiFi</td>\n",
       "      <td>51c19403-bb02-3815-9efc-af3557a1b27b</td>\n",
       "    </tr>\n",
       "    <tr>\n",
       "      <td>3</td>\n",
       "      <td>39.013000</td>\n",
       "      <td>olleh_GiGA_WiFi_9F95</td>\n",
       "      <td>100</td>\n",
       "      <td>None</td>\n",
       "      <td>(564d8d7992adcb30bdf6b76f,)</td>\n",
       "      <td>37.549549</td>\n",
       "      <td>126.880959</td>\n",
       "      <td>1447593947</td>\n",
       "      <td>WiFi</td>\n",
       "      <td>51c19403-bb02-3815-9efc-af3557a1b27b</td>\n",
       "    </tr>\n",
       "    <tr>\n",
       "      <td>4</td>\n",
       "      <td>35.639000</td>\n",
       "      <td>olleh_GiGA_WiFi_9F95</td>\n",
       "      <td>100</td>\n",
       "      <td>None</td>\n",
       "      <td>(564d8d7992adcb30bdf6b770,)</td>\n",
       "      <td>37.549549</td>\n",
       "      <td>126.880959</td>\n",
       "      <td>1447593952</td>\n",
       "      <td>WiFi</td>\n",
       "      <td>51c19403-bb02-3815-9efc-af3557a1b27b</td>\n",
       "    </tr>\n",
       "    <tr>\n",
       "      <td>...</td>\n",
       "      <td>...</td>\n",
       "      <td>...</td>\n",
       "      <td>...</td>\n",
       "      <td>...</td>\n",
       "      <td>...</td>\n",
       "      <td>...</td>\n",
       "      <td>...</td>\n",
       "      <td>...</td>\n",
       "      <td>...</td>\n",
       "      <td>...</td>\n",
       "    </tr>\n",
       "    <tr>\n",
       "      <td>23868</td>\n",
       "      <td>0.000000</td>\n",
       "      <td>None</td>\n",
       "      <td>0</td>\n",
       "      <td>Enabled</td>\n",
       "      <td>(564d8d7992adcb30bdf714a8,)</td>\n",
       "      <td>37.549549</td>\n",
       "      <td>127.062767</td>\n",
       "      <td>1447828582</td>\n",
       "      <td>Mobile</td>\n",
       "      <td>51c19403-bb02-3815-9efc-af3557a1b27b</td>\n",
       "    </tr>\n",
       "    <tr>\n",
       "      <td>23869</td>\n",
       "      <td>135.089996</td>\n",
       "      <td>None</td>\n",
       "      <td>0</td>\n",
       "      <td>Enabled</td>\n",
       "      <td>(564d8d7992adcb30bdf714a9,)</td>\n",
       "      <td>37.549549</td>\n",
       "      <td>127.062767</td>\n",
       "      <td>1447828587</td>\n",
       "      <td>Mobile</td>\n",
       "      <td>51c19403-bb02-3815-9efc-af3557a1b27b</td>\n",
       "    </tr>\n",
       "    <tr>\n",
       "      <td>23870</td>\n",
       "      <td>68.694000</td>\n",
       "      <td>None</td>\n",
       "      <td>0</td>\n",
       "      <td>Enabled</td>\n",
       "      <td>(564d8d7992adcb30bdf714aa,)</td>\n",
       "      <td>37.549549</td>\n",
       "      <td>127.062767</td>\n",
       "      <td>1447828592</td>\n",
       "      <td>Mobile</td>\n",
       "      <td>51c19403-bb02-3815-9efc-af3557a1b27b</td>\n",
       "    </tr>\n",
       "    <tr>\n",
       "      <td>23871</td>\n",
       "      <td>68.472000</td>\n",
       "      <td>None</td>\n",
       "      <td>0</td>\n",
       "      <td>Enabled</td>\n",
       "      <td>(564d8d7992adcb30bdf714ab,)</td>\n",
       "      <td>37.549549</td>\n",
       "      <td>127.062767</td>\n",
       "      <td>1447828597</td>\n",
       "      <td>Mobile</td>\n",
       "      <td>51c19403-bb02-3815-9efc-af3557a1b27b</td>\n",
       "    </tr>\n",
       "    <tr>\n",
       "      <td>23872</td>\n",
       "      <td>166.526001</td>\n",
       "      <td>None</td>\n",
       "      <td>0</td>\n",
       "      <td>Enabled</td>\n",
       "      <td>(564d8d7992adcb30bdf714ac,)</td>\n",
       "      <td>37.549549</td>\n",
       "      <td>127.062767</td>\n",
       "      <td>1447828602</td>\n",
       "      <td>Mobile</td>\n",
       "      <td>51c19403-bb02-3815-9efc-af3557a1b27b</td>\n",
       "    </tr>\n",
       "  </tbody>\n",
       "</table>\n",
       "<p>23873 rows × 10 columns</p>\n",
       "</div>"
      ],
      "text/plain": [
       "              RTT                  SSID  Strength WiFiStatus  \\\n",
       "0       42.118000  olleh_GiGA_WiFi_9F95        93       None   \n",
       "1       36.250999  olleh_GiGA_WiFi_9F95        91       None   \n",
       "2       39.515999  olleh_GiGA_WiFi_9F95        93       None   \n",
       "3       39.013000  olleh_GiGA_WiFi_9F95       100       None   \n",
       "4       35.639000  olleh_GiGA_WiFi_9F95       100       None   \n",
       "...           ...                   ...       ...        ...   \n",
       "23868    0.000000                  None         0    Enabled   \n",
       "23869  135.089996                  None         0    Enabled   \n",
       "23870   68.694000                  None         0    Enabled   \n",
       "23871   68.472000                  None         0    Enabled   \n",
       "23872  166.526001                  None         0    Enabled   \n",
       "\n",
       "                               _id   latitude   longitude   timestamp    type  \\\n",
       "0      (564d8d7992adcb30bdf6b76c,)  37.549549  126.880959  1447593932    WiFi   \n",
       "1      (564d8d7992adcb30bdf6b76d,)  37.549549  126.880959  1447593937    WiFi   \n",
       "2      (564d8d7992adcb30bdf6b76e,)  37.549549  126.880959  1447593942    WiFi   \n",
       "3      (564d8d7992adcb30bdf6b76f,)  37.549549  126.880959  1447593947    WiFi   \n",
       "4      (564d8d7992adcb30bdf6b770,)  37.549549  126.880959  1447593952    WiFi   \n",
       "...                            ...        ...         ...         ...     ...   \n",
       "23868  (564d8d7992adcb30bdf714a8,)  37.549549  127.062767  1447828582  Mobile   \n",
       "23869  (564d8d7992adcb30bdf714a9,)  37.549549  127.062767  1447828587  Mobile   \n",
       "23870  (564d8d7992adcb30bdf714aa,)  37.549549  127.062767  1447828592  Mobile   \n",
       "23871  (564d8d7992adcb30bdf714ab,)  37.549549  127.062767  1447828597  Mobile   \n",
       "23872  (564d8d7992adcb30bdf714ac,)  37.549549  127.062767  1447828602  Mobile   \n",
       "\n",
       "                                       uuid  \n",
       "0      51c19403-bb02-3815-9efc-af3557a1b27b  \n",
       "1      51c19403-bb02-3815-9efc-af3557a1b27b  \n",
       "2      51c19403-bb02-3815-9efc-af3557a1b27b  \n",
       "3      51c19403-bb02-3815-9efc-af3557a1b27b  \n",
       "4      51c19403-bb02-3815-9efc-af3557a1b27b  \n",
       "...                                     ...  \n",
       "23868  51c19403-bb02-3815-9efc-af3557a1b27b  \n",
       "23869  51c19403-bb02-3815-9efc-af3557a1b27b  \n",
       "23870  51c19403-bb02-3815-9efc-af3557a1b27b  \n",
       "23871  51c19403-bb02-3815-9efc-af3557a1b27b  \n",
       "23872  51c19403-bb02-3815-9efc-af3557a1b27b  \n",
       "\n",
       "[23873 rows x 10 columns]"
      ]
     },
     "execution_count": 18,
     "metadata": {},
     "output_type": "execute_result"
    }
   ],
   "source": [
    "pickle_list[0]"
   ]
  },
  {
   "cell_type": "code",
   "execution_count": null,
   "metadata": {},
   "outputs": [],
   "source": []
  }
 ],
 "metadata": {
  "kernelspec": {
   "display_name": "Python 3",
   "language": "python",
   "name": "python3"
  },
  "language_info": {
   "codemirror_mode": {
    "name": "ipython",
    "version": 3
   },
   "file_extension": ".py",
   "mimetype": "text/x-python",
   "name": "python",
   "nbconvert_exporter": "python",
   "pygments_lexer": "ipython3",
   "version": "3.7.4"
  },
  "pycharm": {
   "stem_cell": {
    "cell_type": "raw",
    "metadata": {
     "collapsed": false
    },
    "source": []
   }
  }
 },
 "nbformat": 4,
 "nbformat_minor": 2
}
