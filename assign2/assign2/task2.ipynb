{
 "cells": [
  {
   "cell_type": "code",
   "execution_count": 3,
   "metadata": {},
   "outputs": [
    {
     "data": {
      "text/html": [
       "<div>\n",
       "<style scoped>\n",
       "    .dataframe tbody tr th:only-of-type {\n",
       "        vertical-align: middle;\n",
       "    }\n",
       "\n",
       "    .dataframe tbody tr th {\n",
       "        vertical-align: top;\n",
       "    }\n",
       "\n",
       "    .dataframe thead th {\n",
       "        text-align: right;\n",
       "    }\n",
       "</style>\n",
       "<table border=\"1\" class=\"dataframe\">\n",
       "  <thead>\n",
       "    <tr style=\"text-align: right;\">\n",
       "      <th></th>\n",
       "      <th>type</th>\n",
       "    </tr>\n",
       "  </thead>\n",
       "  <tbody>\n",
       "    <tr>\n",
       "      <td>0</td>\n",
       "      <td>WiFi</td>\n",
       "    </tr>\n",
       "    <tr>\n",
       "      <td>1</td>\n",
       "      <td>WiFi</td>\n",
       "    </tr>\n",
       "    <tr>\n",
       "      <td>2</td>\n",
       "      <td>WiFi</td>\n",
       "    </tr>\n",
       "    <tr>\n",
       "      <td>3</td>\n",
       "      <td>WiFi</td>\n",
       "    </tr>\n",
       "    <tr>\n",
       "      <td>4</td>\n",
       "      <td>WiFi</td>\n",
       "    </tr>\n",
       "    <tr>\n",
       "      <td>...</td>\n",
       "      <td>...</td>\n",
       "    </tr>\n",
       "    <tr>\n",
       "      <td>61934</td>\n",
       "      <td>WiFi</td>\n",
       "    </tr>\n",
       "    <tr>\n",
       "      <td>61935</td>\n",
       "      <td>WiFi</td>\n",
       "    </tr>\n",
       "    <tr>\n",
       "      <td>61936</td>\n",
       "      <td>WiFi</td>\n",
       "    </tr>\n",
       "    <tr>\n",
       "      <td>61937</td>\n",
       "      <td>WiFi</td>\n",
       "    </tr>\n",
       "    <tr>\n",
       "      <td>61938</td>\n",
       "      <td>WiFi</td>\n",
       "    </tr>\n",
       "  </tbody>\n",
       "</table>\n",
       "<p>61939 rows × 1 columns</p>\n",
       "</div>"
      ],
      "text/plain": [
       "       type\n",
       "0      WiFi\n",
       "1      WiFi\n",
       "2      WiFi\n",
       "3      WiFi\n",
       "4      WiFi\n",
       "...     ...\n",
       "61934  WiFi\n",
       "61935  WiFi\n",
       "61936  WiFi\n",
       "61937  WiFi\n",
       "61938  WiFi\n",
       "\n",
       "[61939 rows x 1 columns]"
      ]
     },
     "execution_count": 3,
     "metadata": {},
     "output_type": "execute_result"
    }
   ],
   "source": [
    "import pandas as pd\n",
    "import numpy as np\n",
    "df = pd.read_pickle(\"d30c14b3-4039-3ad8-9cc3-025485863b7c-61939.pickle\")\n",
    "df = df[[\"type\"]]\n",
    "df"
   ]
  },
  {
   "cell_type": "code",
   "execution_count": 4,
   "metadata": {},
   "outputs": [
    {
     "data": {
      "text/plain": [
       "type    61939\n",
       "dtype: int64"
      ]
     },
     "execution_count": 4,
     "metadata": {},
     "output_type": "execute_result"
    }
   ],
   "source": [
    "df[(df['type'] == \"WiFi\")  | (df['type'] == \"Mobile\")].count()"
   ]
  },
  {
   "cell_type": "code",
   "execution_count": 5,
   "metadata": {},
   "outputs": [
    {
     "name": "stdout",
     "output_type": "stream",
     "text": [
      "35196\n"
     ]
    }
   ],
   "source": [
    "Wifi_count = df[(df['type'] == \"WiFi\")].count().values[0]\n",
    "print(Wifi_count)"
   ]
  },
  {
   "cell_type": "code",
   "execution_count": 6,
   "metadata": {},
   "outputs": [
    {
     "name": "stdout",
     "output_type": "stream",
     "text": [
      "26743\n"
     ]
    }
   ],
   "source": [
    "mobile_count = df[(df['type'] == \"Mobile\")].count().values[0]\n",
    "print(mobile_count)"
   ]
  },
  {
   "cell_type": "code",
   "execution_count": 7,
   "metadata": {},
   "outputs": [],
   "source": [
    "df['subgroup'] = (df['type'] != df['type'].shift(1)).cumsum()"
   ]
  },
  {
   "cell_type": "code",
   "execution_count": 8,
   "metadata": {},
   "outputs": [],
   "source": [
    "grouped_df = df.groupby('subgroup',as_index=False).apply(lambda x: (x['type'].head(1),\n",
    "                                                        x.shape[0]))"
   ]
  },
  {
   "cell_type": "code",
   "execution_count": 9,
   "metadata": {},
   "outputs": [
    {
     "data": {
      "text/plain": [
       "0       ([WiFi], 227)\n",
       "1       ([Mobile], 1)\n",
       "2       ([WiFi], 120)\n",
       "3       ([Mobile], 2)\n",
       "4        ([WiFi], 46)\n",
       "            ...      \n",
       "292      ([WiFi], 78)\n",
       "293    ([Mobile], 46)\n",
       "294      ([WiFi], 19)\n",
       "295    ([Mobile], 28)\n",
       "296      ([WiFi], 17)\n",
       "Length: 297, dtype: object"
      ]
     },
     "execution_count": 9,
     "metadata": {},
     "output_type": "execute_result"
    }
   ],
   "source": [
    "grouped_df"
   ]
  },
  {
   "cell_type": "code",
   "execution_count": 16,
   "metadata": {},
   "outputs": [
    {
     "data": {
      "text/plain": [
       "'Mobile'"
      ]
     },
     "execution_count": 16,
     "metadata": {},
     "output_type": "execute_result"
    }
   ],
   "source": [
    "grouped_df.values[295][0].values[0]"
   ]
  },
  {
   "cell_type": "code",
   "execution_count": 129,
   "metadata": {},
   "outputs": [
    {
     "name": "stdout",
     "output_type": "stream",
     "text": [
      "4511\n",
      "4110\n"
     ]
    }
   ],
   "source": [
    "wifi_max = 0\n",
    "mobile_max = 0\n",
    "for i in range(297):\n",
    "    if grouped_df.values[i][1] > wifi_max and grouped_df.values[i][0].values[0] == \"WiFi\":\n",
    "        wifi_max   = grouped_df.values[i][1]\n",
    "    if grouped_df.values[i][1] > mobile_max and grouped_df.values[i][0].values[0] == \"Mobile\":\n",
    "        mobile_max = grouped_df.values[i][1]\n",
    "        \n",
    "print(wifi_max)\n",
    "print(mobile_max)"
   ]
  },
  {
   "cell_type": "code",
   "execution_count": null,
   "metadata": {},
   "outputs": [],
   "source": []
  }
 ],
 "metadata": {
  "kernelspec": {
   "display_name": "Python 3",
   "language": "python",
   "name": "python3"
  },
  "language_info": {
   "codemirror_mode": {
    "name": "ipython",
    "version": 3
   },
   "file_extension": ".py",
   "mimetype": "text/x-python",
   "name": "python",
   "nbconvert_exporter": "python",
   "pygments_lexer": "ipython3",
   "version": "3.7.4"
  }
 },
 "nbformat": 4,
 "nbformat_minor": 2
}
