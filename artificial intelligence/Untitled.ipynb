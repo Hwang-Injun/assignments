{
 "cells": [
  {
   "cell_type": "code",
   "execution_count": null,
   "metadata": {},
   "outputs": [],
   "source": [
    "import requests\n",
    "import telegram\n",
    "import pandas as pd\n",
    "import sys\n",
    "\n",
    "from apscheduler.schedulers.background import BlockingScheduler\n",
    "from apscheduler.jobstores.base import JobLookupError\n",
    "\n",
    "import time\n",
    "\n",
    "r = requests.get('https://min-api.cryptocompare.com/data/price?fsym=BTC&tsyms=KRW,USD')\n",
    "print(r.text)\n",
    "df = r.json()\n",
    "\n",
    "my_token = '824795624:AAH9CNJNMCe_53IZCNr_MCIFoxNnZdGAXzw'\n",
    "my = telegram.Bot(token = my_token)\n",
    "updates = my .getUpdates()\n",
    "for u in updates:\n",
    "    print(u.message)\n",
    "\n",
    "class TelegramBot:\n",
    "    def __init__(self, name, token):\n",
    "        self.core = telegram.Bot(token)\n",
    "        self.id = 898394881\n",
    "        self.name = name\n",
    "\n",
    "    def sendMessage(self, text):\n",
    "        self.core.sendMessage(chat_id = self.id, text=text)\n",
    "\n",
    "class CoinTeller(TelegramBot):\n",
    "    def __init__(self):\n",
    "        self.token = '824795624:AAH9CNJNMCe_53IZCNr_MCIFoxNnZdGAXzw'\n",
    "        TelegramBot.__init__(self, '', self.token)\n",
    "\n",
    "    def start(self):\n",
    "        self.sendMessage('')\n",
    "\n",
    "\n",
    "        \n"
   ]
  },
  {
   "cell_type": "code",
   "execution_count": null,
   "metadata": {},
   "outputs": [],
   "source": [
    "r = requests.get('https://min-api.cryptocompare.com/data/price?fsym=BTC&tsyms=KRW,USD')\n",
    "\n",
    "df = pd.DataFrame({\"KRW\": [list(r.json().values())[0]],\n",
    "                   \"USD\": [list(r.json().values())[1]]}, index=['a','b'])\n",
    "print(df)\n",
    "data = pd.read_csv(\"sang.csv\")\n",
    "data.append(df)\n",
    "data.to_csv()"
   ]
  },
  {
   "cell_type": "code",
   "execution_count": null,
   "metadata": {},
   "outputs": [],
   "source": []
  }
 ],
 "metadata": {
  "kernelspec": {
   "display_name": "Python 3",
   "language": "python",
   "name": "python3"
  },
  "language_info": {
   "codemirror_mode": {
    "name": "ipython",
    "version": 3
   },
   "file_extension": ".py",
   "mimetype": "text/x-python",
   "name": "python",
   "nbconvert_exporter": "python",
   "pygments_lexer": "ipython3",
   "version": "3.7.4"
  }
 },
 "nbformat": 4,
 "nbformat_minor": 2
}
